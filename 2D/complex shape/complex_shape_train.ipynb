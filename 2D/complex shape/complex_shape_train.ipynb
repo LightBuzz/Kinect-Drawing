{
  "nbformat": 4,
  "nbformat_minor": 0,
  "metadata": {
    "colab": {
      "name": "complex shape train.ipynb",
      "provenance": [],
      "collapsed_sections": []
    },
    "kernelspec": {
      "name": "python3",
      "display_name": "Python 3"
    },
    "language_info": {
      "name": "python"
    }
  },
  "cells": [
    {
      "cell_type": "code",
      "metadata": {
        "colab": {
          "base_uri": "https://localhost:8080/"
        },
        "id": "CUpEWBbYcy24",
        "outputId": "e238bc30-79a7-4894-83e7-099ff4051bc6"
      },
      "source": [
        "!wget http://cybertron.cg.tu-berlin.de/eitz/projects/classifysketch/sketches_png.zip\n"
      ],
      "execution_count": 1,
      "outputs": [
        {
          "output_type": "stream",
          "text": [
            "--2021-05-10 22:25:34--  http://cybertron.cg.tu-berlin.de/eitz/projects/classifysketch/sketches_png.zip\n",
            "Resolving cybertron.cg.tu-berlin.de (cybertron.cg.tu-berlin.de)... 130.149.80.52\n",
            "Connecting to cybertron.cg.tu-berlin.de (cybertron.cg.tu-berlin.de)|130.149.80.52|:80... connected.\n",
            "HTTP request sent, awaiting response... 200 OK\n",
            "Length: 550098987 (525M) [application/zip]\n",
            "Saving to: ‘sketches_png.zip’\n",
            "\n",
            "sketches_png.zip    100%[===================>] 524.62M  17.7MB/s    in 34s     \n",
            "\n",
            "2021-05-10 22:26:08 (15.6 MB/s) - ‘sketches_png.zip’ saved [550098987/550098987]\n",
            "\n"
          ],
          "name": "stdout"
        }
      ]
    },
    {
      "cell_type": "code",
      "metadata": {
        "id": "QMQauq--aIKQ"
      },
      "source": [
        "import math\n",
        "import random\n",
        "import numpy as np\n",
        "from numpy import asarray\n",
        "import cv2\n",
        "from PIL import Image, ImageDraw\n",
        "import sys\n",
        "from skimage.feature import hog\n",
        "from sklearn import svm\n",
        "from sklearn.metrics import classification_report,accuracy_score\n",
        "import pickle\n",
        "import sys\n",
        "import os\n",
        "import pathlib\n",
        "import pickle"
      ],
      "execution_count": 15,
      "outputs": []
    },
    {
      "cell_type": "code",
      "metadata": {
        "id": "04ZEVwz_dd6A"
      },
      "source": [
        "with ZipFile('/content/data.zip', 'r') as zipObj:\n",
        "   # Extract all the contents of zip file in different directory\n",
        "   zipObj.extractall('Data')"
      ],
      "execution_count": 13,
      "outputs": []
    },
    {
      "cell_type": "code",
      "metadata": {
        "colab": {
          "base_uri": "https://localhost:8080/",
          "height": 35
        },
        "id": "uaWo3ERJgwxy",
        "outputId": "d8ccb66b-40bd-40b8-c2a8-3e6fcd469abd"
      },
      "source": [
        "import shutil\n",
        "shutil.make_archive('/content/wheel',\n",
        "                    'zip',\n",
        "                    '/content/Folder/png/',\n",
        "                    'wheel')\n",
        "\n",
        "# to delete folder\n",
        "!rm -rf /content/Data/eye"
      ],
      "execution_count": 17,
      "outputs": [
        {
          "output_type": "execute_result",
          "data": {
            "application/vnd.google.colaboratory.intrinsic+json": {
              "type": "string"
            },
            "text/plain": [
              "'/content/wheel.zip'"
            ]
          },
          "metadata": {
            "tags": []
          },
          "execution_count": 17
        }
      ]
    },
    {
      "cell_type": "code",
      "metadata": {
        "id": "HiL0ISsrechb"
      },
      "source": [
        "def do_it_all(data_path):\n",
        "    \n",
        "    \n",
        "\n",
        "\n",
        "    image = Image.open(data_path)\n",
        "    #new_image = image.resize((64, 64))\n",
        "    image.save('padded_cropped_shrinked_img.png')\n",
        "    final_img_path = 'padded_cropped_shrinked_img.png'\n",
        "    # -------------------------------------------------------\n",
        "    # Collecting data for training\n",
        "\n",
        "\n",
        "    # load the image\n",
        "    image = Image.open(final_img_path)\n",
        "    # convert image to numpy array\n",
        "    img_data = asarray(image)\n",
        "    return img_data"
      ],
      "execution_count": 99,
      "outputs": []
    },
    {
      "cell_type": "code",
      "metadata": {
        "id": "hv387wtrcYoN"
      },
      "source": [
        "def hog_alorithm(training_data):\n",
        "    training_data_resized = []\n",
        "    for img in training_data:\n",
        "        training_data_resized.append(cv2.resize(img, (80, 80)))\n",
        "\n",
        "    ppc = 16\n",
        "    hog_images = []\n",
        "    hog_features = []\n",
        "    for image in training_data_resized:\n",
        "        fd,hog_image = hog(image, orientations=8, pixels_per_cell=(ppc,ppc),cells_per_block=(4, 4),block_norm= 'L2',visualize=True)\n",
        "        hog_images.append(hog_image)\n",
        "        hog_features.append(fd)\n",
        "\n",
        "    print(len(hog_features))\n",
        "    hog_features = np.array(hog_features)\n",
        "    return hog_features"
      ],
      "execution_count": 100,
      "outputs": []
    },
    {
      "cell_type": "code",
      "metadata": {
        "id": "ePIbutmRmpwo"
      },
      "source": [
        "def preprocess(img_path): #input an image   \n",
        "\n",
        "    # load the image\n",
        "    image = Image.open(img_path)\n",
        "    # convert image to numpy array\n",
        "    img_data = asarray(image)\n",
        "\n",
        "    our_test = []\n",
        "    our_test.append(img_data)\n",
        "\n",
        "\n",
        "    our_test_resized = [cv2.resize(our_test[0], (80, 80))]\n",
        "\n",
        "    ppc = 16\n",
        "    hog_images = []\n",
        "    hog_features = []\n",
        "    for image in our_test_resized:\n",
        "        fd,hog_image = hog(image, orientations=8, pixels_per_cell=(ppc,ppc),cells_per_block=(4, 4),block_norm= 'L2',visualize=True)\n",
        "        hog_images.append(hog_image)\n",
        "        hog_features.append(fd)\n",
        "\n",
        "    hog_features = np.array(hog_features)\n",
        "    return hog_features"
      ],
      "execution_count": 101,
      "outputs": []
    },
    {
      "cell_type": "code",
      "metadata": {
        "colab": {
          "base_uri": "https://localhost:8080/"
        },
        "id": "diusYO0MeqAZ",
        "outputId": "551a3881-8268-4f9c-b0f7-4f376a3bcf61"
      },
      "source": [
        "training_data = []\n",
        "classes_sizes = []\n",
        "labels = []\n",
        "data_path = \"/content/Data\"\n",
        "\n",
        "for class_path in os.listdir(data_path):\n",
        "\n",
        "    class_path = os.path.join(data_path, class_path)\n",
        "\n",
        "    class_len = len(os.listdir(class_path))\n",
        "    classes_sizes.append(class_len)\n",
        "\n",
        "    for shape_path in os.listdir(class_path):\n",
        "        print(shape_path)\n",
        "        shape_path = os.path.join(class_path, shape_path)\n",
        "\n",
        "        if os.stat(shape_path).st_size == 0:\n",
        "            os.remove(shape_path)\n",
        "            continue\n",
        "\n",
        "        training_data.append(do_it_all(shape_path))\n",
        "\n",
        "hog_features = hog_alorithm(training_data)"
      ],
      "execution_count": 102,
      "outputs": [
        {
          "output_type": "stream",
          "text": [
            "8846.png\n",
            "8844.png\n",
            "8826.png\n",
            "8879.png\n",
            "8848.png\n",
            "8853.png\n",
            "8842.png\n",
            "8808.png\n",
            "8867.png\n",
            "8839.png\n",
            "8836.png\n",
            "8817.png\n",
            "8818.png\n",
            "8875.png\n",
            "8816.png\n",
            "8832.png\n",
            "8863.png\n",
            "8821.png\n",
            "8870.png\n",
            "8811.png\n",
            "8880.png\n",
            "8847.png\n",
            "8868.png\n",
            "8857.png\n",
            "8803.png\n",
            "8801.png\n",
            "8878.png\n",
            "8876.png\n",
            "8874.png\n",
            "8854.png\n",
            "8841.png\n",
            "8856.png\n",
            "8845.png\n",
            "8828.png\n",
            "8865.png\n",
            "8860.png\n",
            "8838.png\n",
            "8815.png\n",
            "8810.png\n",
            "8827.png\n",
            "8852.png\n",
            "8829.png\n",
            "8823.png\n",
            "8805.png\n",
            "8835.png\n",
            "8858.png\n",
            "8804.png\n",
            "8859.png\n",
            "8802.png\n",
            "8840.png\n",
            "8864.png\n",
            "8809.png\n",
            "8855.png\n",
            "8861.png\n",
            "8820.png\n",
            "8812.png\n",
            "8819.png\n",
            "8806.png\n",
            "8824.png\n",
            "8833.png\n",
            "8830.png\n",
            "8843.png\n",
            "8851.png\n",
            "8834.png\n",
            "8825.png\n",
            "8813.png\n",
            "8822.png\n",
            "8850.png\n",
            "8871.png\n",
            "8814.png\n",
            "8849.png\n",
            "8866.png\n",
            "8869.png\n",
            "8837.png\n",
            "8807.png\n",
            "8872.png\n",
            "8862.png\n",
            "8873.png\n",
            "8877.png\n",
            "8831.png\n",
            "29.png\n",
            "73.png\n",
            "41.png\n",
            "42.png\n",
            "64.png\n",
            "3.png\n",
            "67.png\n",
            "62.png\n",
            "63.png\n",
            "40.png\n",
            "15.png\n",
            "37.png\n",
            "76.png\n",
            "7.png\n",
            "22.png\n",
            "79.png\n",
            "46.png\n",
            "25.png\n",
            "52.png\n",
            "51.png\n",
            "1.png\n",
            "2.png\n",
            "45.png\n",
            "68.png\n",
            "24.png\n",
            "58.png\n",
            "16.png\n",
            "32.png\n",
            "34.png\n",
            "77.png\n",
            "44.png\n",
            "56.png\n",
            "71.png\n",
            "66.png\n",
            "19.png\n",
            "53.png\n",
            "5.png\n",
            "47.png\n",
            "33.png\n",
            "49.png\n",
            "55.png\n",
            "27.png\n",
            "78.png\n",
            "60.png\n",
            "13.png\n",
            "50.png\n",
            "18.png\n",
            "36.png\n",
            "74.png\n",
            "57.png\n",
            "6.png\n",
            "54.png\n",
            "61.png\n",
            "23.png\n",
            "69.png\n",
            "17.png\n",
            "20.png\n",
            "75.png\n",
            "80.png\n",
            "10.png\n",
            "31.png\n",
            "35.png\n",
            "38.png\n",
            "12.png\n",
            "30.png\n",
            "72.png\n",
            "14.png\n",
            "21.png\n",
            "59.png\n",
            "43.png\n",
            "9.png\n",
            "28.png\n",
            "11.png\n",
            "4.png\n",
            "39.png\n",
            "65.png\n",
            "70.png\n",
            "8.png\n",
            "48.png\n",
            "26.png\n",
            "18611.png\n",
            "18616.png\n",
            "18589.png\n",
            "18638.png\n",
            "18594.png\n",
            "18565.png\n",
            "18593.png\n",
            "18595.png\n",
            "18567.png\n",
            "18563.png\n",
            "18596.png\n",
            "18575.png\n",
            "18581.png\n",
            "18573.png\n",
            "18571.png\n",
            "18633.png\n",
            "18631.png\n",
            "18604.png\n",
            "18620.png\n",
            "18578.png\n",
            "18640.png\n",
            "18570.png\n",
            "18636.png\n",
            "18621.png\n",
            "18584.png\n",
            "18626.png\n",
            "18605.png\n",
            "18624.png\n",
            "18618.png\n",
            "18615.png\n",
            "18613.png\n",
            "18627.png\n",
            "18601.png\n",
            "18576.png\n",
            "18610.png\n",
            "18585.png\n",
            "18599.png\n",
            "18617.png\n",
            "18582.png\n",
            "18634.png\n",
            "18591.png\n",
            "18587.png\n",
            "18614.png\n",
            "18566.png\n",
            "18579.png\n",
            "18619.png\n",
            "18588.png\n",
            "18607.png\n",
            "18625.png\n",
            "18592.png\n",
            "18630.png\n",
            "18623.png\n",
            "18569.png\n",
            "18612.png\n",
            "18562.png\n",
            "18586.png\n",
            "18574.png\n",
            "18606.png\n",
            "18629.png\n",
            "18628.png\n",
            "18564.png\n",
            "18597.png\n",
            "18583.png\n",
            "18609.png\n",
            "18608.png\n",
            "18603.png\n",
            "18600.png\n",
            "18622.png\n",
            "18568.png\n",
            "18598.png\n",
            "18577.png\n",
            "18580.png\n",
            "18572.png\n",
            "18561.png\n",
            "18590.png\n",
            "18639.png\n",
            "18632.png\n",
            "18602.png\n",
            "18635.png\n",
            "18637.png\n",
            "1705.png\n",
            "1720.png\n",
            "1721.png\n",
            "1760.png\n",
            "1699.png\n",
            "1688.png\n",
            "1732.png\n",
            "1740.png\n",
            "1703.png\n",
            "1704.png\n",
            "1708.png\n",
            "1698.png\n",
            "1759.png\n",
            "1743.png\n",
            "1731.png\n",
            "1692.png\n",
            "1735.png\n",
            "1681.png\n",
            "1751.png\n",
            "1714.png\n",
            "1687.png\n",
            "1712.png\n",
            "1713.png\n",
            "1747.png\n",
            "1689.png\n",
            "1744.png\n",
            "1700.png\n",
            "1727.png\n",
            "1701.png\n",
            "1694.png\n",
            "1723.png\n",
            "1724.png\n",
            "1729.png\n",
            "1726.png\n",
            "1746.png\n",
            "1755.png\n",
            "1741.png\n",
            "1697.png\n",
            "1739.png\n",
            "1690.png\n",
            "1706.png\n",
            "1702.png\n",
            "1730.png\n",
            "1707.png\n",
            "1725.png\n",
            "1745.png\n",
            "1728.png\n",
            "1685.png\n",
            "1691.png\n",
            "1710.png\n",
            "1696.png\n",
            "1738.png\n",
            "1686.png\n",
            "1719.png\n",
            "1693.png\n",
            "1748.png\n",
            "1749.png\n",
            "1684.png\n",
            "1718.png\n",
            "1737.png\n",
            "1717.png\n",
            "1682.png\n",
            "1722.png\n",
            "1695.png\n",
            "1750.png\n",
            "1736.png\n",
            "1709.png\n",
            "1716.png\n",
            "1742.png\n",
            "1734.png\n",
            "1753.png\n",
            "1711.png\n",
            "1683.png\n",
            "1758.png\n",
            "1715.png\n",
            "1733.png\n",
            "1756.png\n",
            "1754.png\n",
            "1757.png\n",
            "1752.png\n",
            "17125.png\n",
            "17192.png\n",
            "17171.png\n",
            "17137.png\n",
            "17153.png\n",
            "17193.png\n",
            "17146.png\n",
            "17166.png\n",
            "17178.png\n",
            "17180.png\n",
            "17122.png\n",
            "17127.png\n",
            "17158.png\n",
            "17184.png\n",
            "17123.png\n",
            "17155.png\n",
            "17124.png\n",
            "17177.png\n",
            "17143.png\n",
            "17183.png\n",
            "17133.png\n",
            "17151.png\n",
            "17181.png\n",
            "17141.png\n",
            "17159.png\n",
            "17187.png\n",
            "17148.png\n",
            "17179.png\n",
            "17196.png\n",
            "17160.png\n",
            "17132.png\n",
            "17154.png\n",
            "17191.png\n",
            "17134.png\n",
            "17190.png\n",
            "17138.png\n",
            "17121.png\n",
            "17139.png\n",
            "17152.png\n",
            "17161.png\n",
            "17142.png\n",
            "17173.png\n",
            "17174.png\n",
            "17147.png\n",
            "17144.png\n",
            "17189.png\n",
            "17175.png\n",
            "17168.png\n",
            "17188.png\n",
            "17156.png\n",
            "17182.png\n",
            "17172.png\n",
            "17149.png\n",
            "17186.png\n",
            "17128.png\n",
            "17195.png\n",
            "17145.png\n",
            "17199.png\n",
            "17165.png\n",
            "17150.png\n",
            "17129.png\n",
            "17140.png\n",
            "17167.png\n",
            "17194.png\n",
            "17198.png\n",
            "17162.png\n",
            "17185.png\n",
            "17169.png\n",
            "17157.png\n",
            "17197.png\n",
            "17200.png\n",
            "17176.png\n",
            "17130.png\n",
            "17135.png\n",
            "17164.png\n",
            "17136.png\n",
            "17131.png\n",
            "17170.png\n",
            "17163.png\n",
            "17126.png\n",
            "400\n"
          ],
          "name": "stdout"
        }
      ]
    },
    {
      "cell_type": "code",
      "metadata": {
        "colab": {
          "base_uri": "https://localhost:8080/"
        },
        "id": "7CrZvuOPrjjw",
        "outputId": "67f7d054-8262-4620-8bfc-cf79fc8e5825"
      },
      "source": [
        "classes_sizes"
      ],
      "execution_count": 103,
      "outputs": [
        {
          "output_type": "execute_result",
          "data": {
            "text/plain": [
              "[80, 80, 80, 80, 80]"
            ]
          },
          "metadata": {
            "tags": []
          },
          "execution_count": 103
        }
      ]
    },
    {
      "cell_type": "code",
      "metadata": {
        "id": "ebHsWrAOetbE"
      },
      "source": [
        "labels = np.zeros((classes_sizes[0], 1), dtype=\"int8\")\n",
        "for i in range(1, len(classes_sizes)):\n",
        "    label_i = np.zeros((classes_sizes[i], 1), dtype=\"int8\") + i\n",
        "    labels = np.concatenate((labels, label_i))\n",
        "\n"
      ],
      "execution_count": 104,
      "outputs": []
    },
    {
      "cell_type": "code",
      "metadata": {
        "colab": {
          "base_uri": "https://localhost:8080/"
        },
        "id": "xD2DL4NjexSR",
        "outputId": "32edd957-51c2-47dd-d98f-081d56adc589"
      },
      "source": [
        "clf = svm.SVC(probability=True)\n",
        "data_frame = np.hstack((hog_features, labels))\n",
        "np.random.shuffle(data_frame)\n",
        "\n",
        "percentage = 80\n",
        "partition = int(len(hog_features)*percentage/100)\n",
        "\n",
        "x_train, x_test = data_frame[:partition,:-1],  data_frame[partition:,:-1]\n",
        "y_train, y_test = data_frame[:partition,-1:].ravel() , data_frame[partition:,-1:].ravel()\n",
        "\n",
        "clf.fit(x_train, y_train)\n"
      ],
      "execution_count": 105,
      "outputs": [
        {
          "output_type": "execute_result",
          "data": {
            "text/plain": [
              "SVC(C=1.0, break_ties=False, cache_size=200, class_weight=None, coef0=0.0,\n",
              "    decision_function_shape='ovr', degree=3, gamma='scale', kernel='rbf',\n",
              "    max_iter=-1, probability=True, random_state=None, shrinking=True, tol=0.001,\n",
              "    verbose=False)"
            ]
          },
          "metadata": {
            "tags": []
          },
          "execution_count": 105
        }
      ]
    },
    {
      "cell_type": "code",
      "metadata": {
        "id": "UdI-Pqh6o1c_"
      },
      "source": [
        "y_pred = clf.predict(x_test)"
      ],
      "execution_count": 106,
      "outputs": []
    },
    {
      "cell_type": "code",
      "metadata": {
        "colab": {
          "base_uri": "https://localhost:8080/"
        },
        "id": "TC0J4IosuJeY",
        "outputId": "e71d1986-4ff2-4add-a079-ebe2727861ec"
      },
      "source": [
        "print(clf.score(x_train,y_train))"
      ],
      "execution_count": 107,
      "outputs": [
        {
          "output_type": "stream",
          "text": [
            "0.91875\n"
          ],
          "name": "stdout"
        }
      ]
    },
    {
      "cell_type": "code",
      "metadata": {
        "colab": {
          "base_uri": "https://localhost:8080/"
        },
        "id": "GvRpYWSXr9y1",
        "outputId": "836a1a2b-9da7-4f3f-80eb-8a6427b9d778"
      },
      "source": [
        "print(clf.score(x_test,y_test))"
      ],
      "execution_count": 108,
      "outputs": [
        {
          "output_type": "stream",
          "text": [
            "0.8375\n"
          ],
          "name": "stdout"
        }
      ]
    },
    {
      "cell_type": "code",
      "metadata": {
        "colab": {
          "base_uri": "https://localhost:8080/"
        },
        "id": "UzSRW-F2m164",
        "outputId": "59742cab-2ac9-45a2-def0-ff2f03687434"
      },
      "source": [
        "print(classification_report(y_test,y_pred))"
      ],
      "execution_count": 109,
      "outputs": [
        {
          "output_type": "stream",
          "text": [
            "              precision    recall  f1-score   support\n",
            "\n",
            "         0.0       0.59      0.77      0.67        13\n",
            "         1.0       0.93      0.81      0.87        16\n",
            "         2.0       1.00      0.76      0.87        17\n",
            "         3.0       0.89      0.84      0.86        19\n",
            "         4.0       0.83      1.00      0.91        15\n",
            "\n",
            "    accuracy                           0.84        80\n",
            "   macro avg       0.85      0.84      0.83        80\n",
            "weighted avg       0.86      0.84      0.84        80\n",
            "\n"
          ],
          "name": "stdout"
        }
      ]
    },
    {
      "cell_type": "code",
      "metadata": {
        "id": "LCdcQE0Vpxs-"
      },
      "source": [
        "y_pred = clf.predict(x_test)"
      ],
      "execution_count": 110,
      "outputs": []
    },
    {
      "cell_type": "code",
      "metadata": {
        "id": "0-s8gQcQe5hB"
      },
      "source": [
        "# save the model to disk\n",
        "filename = 'finalized_model.pkl'\n",
        "pickle.dump(clf, open(filename, 'wb'))"
      ],
      "execution_count": 111,
      "outputs": []
    },
    {
      "cell_type": "code",
      "metadata": {
        "id": "vAOI84uskpR-"
      },
      "source": [
        "#filename = os.path.join(folder_path, 'finalized_model_v4.pkl')\n",
        "loaded_model = pickle.load(open(\"/content/finalized_model.pkl\", 'rb'))"
      ],
      "execution_count": 112,
      "outputs": []
    },
    {
      "cell_type": "code",
      "metadata": {
        "colab": {
          "base_uri": "https://localhost:8080/"
        },
        "id": "sK-2YukOidep",
        "outputId": "1114cc0d-794e-4718-d02d-4721141a9297"
      },
      "source": [
        "final_img_path = \"/content/Data/airplane/11.png\"\n",
        "predicted_class = loaded_model.predict(preprocess(final_img_path))\n",
        "prob_of_classes = loaded_model.predict_proba(preprocess(final_img_path))\n",
        "prob_of_classes"
      ],
      "execution_count": 121,
      "outputs": [
        {
          "output_type": "execute_result",
          "data": {
            "text/plain": [
              "array([[0.07571795, 0.80881957, 0.01034517, 0.05759563, 0.04752168]])"
            ]
          },
          "metadata": {
            "tags": []
          },
          "execution_count": 121
        }
      ]
    },
    {
      "cell_type": "code",
      "metadata": {
        "colab": {
          "base_uri": "https://localhost:8080/"
        },
        "id": "XSYgGzU_kFsP",
        "outputId": "eb1ea6a1-dc02-4176-90b4-49e584fa9a70"
      },
      "source": [
        "predicted_class\n"
      ],
      "execution_count": 122,
      "outputs": [
        {
          "output_type": "execute_result",
          "data": {
            "text/plain": [
              "array([1.])"
            ]
          },
          "metadata": {
            "tags": []
          },
          "execution_count": 122
        }
      ]
    },
    {
      "cell_type": "code",
      "metadata": {
        "id": "If5vaOhKo82q"
      },
      "source": [
        "airplane = 1\n",
        "bicycle = 3\n",
        "t-shirt = 4\n",
        "tree = 2\n",
        "house = 0"
      ],
      "execution_count": null,
      "outputs": []
    },
    {
      "cell_type": "code",
      "metadata": {
        "id": "GoU3eWlqvP2p"
      },
      "source": [
        ""
      ],
      "execution_count": null,
      "outputs": []
    }
  ]
}