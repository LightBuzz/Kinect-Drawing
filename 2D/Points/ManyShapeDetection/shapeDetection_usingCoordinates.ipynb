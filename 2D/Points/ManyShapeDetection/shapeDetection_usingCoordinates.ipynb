{
 "cells": [
  {
   "cell_type": "markdown",
   "metadata": {},
   "source": [
    "## Import"
   ]
  },
  {
   "cell_type": "code",
   "execution_count": 49,
   "metadata": {
    "id": "1hounyvdHMTQ"
   },
   "outputs": [],
   "source": [
    "import math\n",
    "import random\n",
    "import numpy as np\n",
    "from numpy import asarray\n",
    "import cv2\n",
    "from PIL import Image, ImageDraw\n",
    "import sys\n",
    "from skimage.feature import hog\n",
    "from sklearn import svm\n",
    "from sklearn.metrics import classification_report,accuracy_score\n",
    "import pickle\n",
    "import sys"
   ]
  },
  {
   "cell_type": "markdown",
   "metadata": {
    "id": "dyqsFU-dJZFA"
   },
   "source": [
    "## Preprocessing and obtain the data coord of many shapes from the txt file\n"
   ]
  },
  {
   "cell_type": "code",
   "execution_count": 50,
   "metadata": {
    "id": "zo5AsLL2IXMz"
   },
   "outputs": [],
   "source": [
    "file_1 = open(\"0_2.txt\")\n",
    "Data= file_1.readlines()\n",
    "Coordinates=list()\n",
    "count=0\n",
    "Shapes=dict()\n",
    "data_list_coordinates = []\n",
    "for i in range(len(Data)):\n",
    "    if \"End\" in Data[i]:\n",
    "      Shapes[i]=Data[i-1]\n",
    "for i in range(len(Data)):\n",
    "    if \"End\" in Data[i]:\n",
    "      Coordinates.append(Data[i-1])\n",
    "for j in range(len(Coordinates)):\n",
    "  data_list = Coordinates[j].split(\" \")\n",
    "  data_list_coordinates.append(\"Shape\")\n",
    "  for item in data_list:\n",
    "    (x, y) = item.split(\",\")\n",
    "    (x, y) = (math.ceil(float(x))), (math.ceil(float(y))+j*400)\n",
    "    data_list_coordinates.append((x, y))"
   ]
  },
  {
   "cell_type": "code",
   "execution_count": 13,
   "metadata": {},
   "outputs": [],
   "source": [
    "polygon=['Shape',\n",
    " (604, 260),\n",
    " (605, 247),\n",
    " (608, 245),\n",
    " (609, 242),\n",
    " (606, 241),\n",
    " (598, 238),\n",
    " (585, 242),\n",
    " (559, 222),\n",
    " (367, 309),\n",
    " (367, 309),\n",
    " (367, 309),\n",
    " (367, 309),\n",
    " (379, 352),\n",
    " (382, 376),\n",
    " (388, 490),\n",
    " (387, 509),\n",
    " (401, 578),\n",
    " (401, 577),\n",
    " (403, 576),\n",
    " (404, 573),\n",
    " (407, 573),\n",
    " (411, 571),\n",
    " (417, 570),\n",
    " (430, 568),\n",
    " (447, 564),\n",
    " (471, 558),\n",
    " (500, 551),\n",
    " (536, 544),\n",
    " (648, 529),\n",
    " (679, 526),\n",
    " (810, 522),\n",
    " (811, 521),\n",
    " (811, 521),\n",
    " (812, 521),\n",
    " (811, 521),\n",
    " (812, 521),\n",
    " (811, 519),\n",
    " (809, 516),\n",
    " (804, 512),\n",
    " (799, 501),\n",
    " (796, 482),\n",
    " (793, 464),\n",
    " (788, 445),\n",
    " (784, 428),\n",
    " (780, 409),\n",
    " (776, 394),\n",
    " (760, 358),\n",
    " (760, 336),\n",
    " (755, 329),\n",
    " (754, 318),\n",
    " (750, 313),\n",
    " (750, 304),\n",
    " (746, 301),\n",
    " (745, 294),\n",
    " (742, 292),\n",
    " (743, 288),\n",
    " (741, 288),\n",
    " (742, 285),\n",
    " (741, 285),\n",
    " (741, 285),\n",
    " (741, 284),\n",
    " (742, 284),\n",
    " (742, 285),\n",
    " (742, 285),\n",
    " (741, 284),\n",
    " (737, 282),\n",
    " (497, 216),\n",
    " (498, 217),\n",
    " (499, 219),\n",
    " (499, 220),\n",
    " (499, 219),\n",
    " (499, 219),\n",
    " (499, 219),\n",
    " (499, 219),\n",
    " (499, 219),\n",
    " (499, 219),\n",
    " (499, 219),\n",
    " (499, 218)]"
   ]
  },
  {
   "cell_type": "code",
   "execution_count": 14,
   "metadata": {
    "colab": {
     "base_uri": "https://localhost:8080/"
    },
    "id": "IPtDTCuH25iX",
    "outputId": "00c5092a-1ab2-43bc-8ae7-ee584f2e6963"
   },
   "outputs": [
    {
     "data": {
      "text/plain": [
       "2"
      ]
     },
     "execution_count": 14,
     "metadata": {},
     "output_type": "execute_result"
    }
   ],
   "source": [
    "len(Coordinates)"
   ]
  },
  {
   "cell_type": "code",
   "execution_count": 51,
   "metadata": {
    "colab": {
     "base_uri": "https://localhost:8080/"
    },
    "id": "py_NymVCIafI",
    "outputId": "f29817f3-b489-4a68-eb6a-48b978e6deae"
   },
   "outputs": [
    {
     "data": {
      "text/plain": [
       "['Shape',\n",
       " (1009, 445),\n",
       " (1006, 446),\n",
       " (1065, 462),\n",
       " (1073, 462),\n",
       " (1089, 456),\n",
       " (1105, 453),\n",
       " (1213, 453),\n",
       " (1218, 456),\n",
       " (1223, 461),\n",
       " (1234, 467),\n",
       " (1238, 470),\n",
       " (1243, 472),\n",
       " (1246, 474),\n",
       " (1250, 474),\n",
       " (1258, 471),\n",
       " (1259, 468),\n",
       " (1260, 468),\n",
       " (1260, 466),\n",
       " (1261, 465),\n",
       " (1261, 464),\n",
       " (1260, 464),\n",
       " (1259, 462),\n",
       " (1258, 461),\n",
       " (1256, 460),\n",
       " (1256, 457),\n",
       " (1254, 456),\n",
       " (1251, 454),\n",
       " (1250, 451),\n",
       " (1248, 448),\n",
       " (1244, 442),\n",
       " (1240, 439),\n",
       " (1237, 435),\n",
       " (1231, 408),\n",
       " (1226, 385),\n",
       " (1203, 335),\n",
       " (1199, 323),\n",
       " (1193, 314),\n",
       " (1188, 304),\n",
       " (1182, 294),\n",
       " (1176, 284),\n",
       " (1160, 250),\n",
       " (1149, 231),\n",
       " (1138, 210),\n",
       " (1132, 199),\n",
       " (1107, 245),\n",
       " (1104, 254),\n",
       " (1086, 304),\n",
       " (1082, 313),\n",
       " (1024, 423),\n",
       " (1020, 430),\n",
       " (1005, 462),\n",
       " (1006, 461),\n",
       " 'Shape',\n",
       " (1384, 717),\n",
       " (1384, 716),\n",
       " (1382, 714),\n",
       " (1378, 713),\n",
       " (1369, 711),\n",
       " (1358, 714),\n",
       " (1346, 715),\n",
       " (1332, 720),\n",
       " (1092, 721),\n",
       " (1088, 724),\n",
       " (1083, 733),\n",
       " (1082, 735),\n",
       " (1090, 769),\n",
       " (1094, 781),\n",
       " (1109, 839),\n",
       " (1113, 857),\n",
       " (1117, 874),\n",
       " (1121, 891),\n",
       " (1125, 908),\n",
       " (1128, 922),\n",
       " (1129, 936),\n",
       " (1131, 952),\n",
       " (1133, 962),\n",
       " (1134, 971),\n",
       " (1136, 976),\n",
       " (1142, 976),\n",
       " (1145, 978),\n",
       " (1152, 975),\n",
       " (1159, 972),\n",
       " (1170, 969),\n",
       " (1183, 965),\n",
       " (1200, 961),\n",
       " (1219, 956),\n",
       " (1239, 951),\n",
       " (1262, 945),\n",
       " (1286, 941),\n",
       " (1378, 938),\n",
       " (1388, 939),\n",
       " (1396, 941),\n",
       " (1401, 946),\n",
       " (1406, 949),\n",
       " (1411, 950),\n",
       " (1416, 948),\n",
       " (1420, 948),\n",
       " (1425, 942),\n",
       " (1427, 937),\n",
       " (1427, 934),\n",
       " (1425, 931),\n",
       " (1423, 929),\n",
       " (1422, 923),\n",
       " (1422, 912),\n",
       " (1436, 854),\n",
       " (1434, 848),\n",
       " (1430, 842),\n",
       " (1425, 832),\n",
       " (1424, 808),\n",
       " (1422, 777),\n",
       " (1417, 766),\n",
       " (1404, 733),\n",
       " (1399, 726),\n",
       " (1395, 719),\n",
       " (1392, 716),\n",
       " (1390, 714),\n",
       " (1390, 712),\n",
       " 'Shape',\n",
       " (604, 260),\n",
       " (605, 247),\n",
       " (608, 245),\n",
       " (609, 242),\n",
       " (606, 241),\n",
       " (598, 238),\n",
       " (585, 242),\n",
       " (559, 222),\n",
       " (367, 309),\n",
       " (367, 309),\n",
       " (367, 309),\n",
       " (367, 309),\n",
       " (379, 352),\n",
       " (382, 376),\n",
       " (388, 490),\n",
       " (387, 509),\n",
       " (401, 578),\n",
       " (401, 577),\n",
       " (403, 576),\n",
       " (404, 573),\n",
       " (407, 573),\n",
       " (411, 571),\n",
       " (417, 570),\n",
       " (430, 568),\n",
       " (447, 564),\n",
       " (471, 558),\n",
       " (500, 551),\n",
       " (536, 544),\n",
       " (648, 529),\n",
       " (679, 526),\n",
       " (810, 522),\n",
       " (811, 521),\n",
       " (811, 521),\n",
       " (812, 521),\n",
       " (811, 521),\n",
       " (812, 521),\n",
       " (811, 519),\n",
       " (809, 516),\n",
       " (804, 512),\n",
       " (799, 501),\n",
       " (796, 482),\n",
       " (793, 464),\n",
       " (788, 445),\n",
       " (784, 428),\n",
       " (780, 409),\n",
       " (776, 394),\n",
       " (760, 358),\n",
       " (760, 336),\n",
       " (755, 329),\n",
       " (754, 318),\n",
       " (750, 313),\n",
       " (750, 304),\n",
       " (746, 301),\n",
       " (745, 294),\n",
       " (742, 292),\n",
       " (743, 288),\n",
       " (741, 288),\n",
       " (742, 285),\n",
       " (741, 285),\n",
       " (741, 285),\n",
       " (741, 284),\n",
       " (742, 284),\n",
       " (742, 285),\n",
       " (742, 285),\n",
       " (741, 284),\n",
       " (737, 282),\n",
       " (497, 216),\n",
       " (498, 217),\n",
       " (499, 219),\n",
       " (499, 220),\n",
       " (499, 219),\n",
       " (499, 219),\n",
       " (499, 219),\n",
       " (499, 219),\n",
       " (499, 219),\n",
       " (499, 219),\n",
       " (499, 219),\n",
       " (499, 218)]"
      ]
     },
     "execution_count": 51,
     "metadata": {},
     "output_type": "execute_result"
    }
   ],
   "source": [
    "data_list_coordinates+=polygon\n",
    "data_list_coordinates"
   ]
  },
  {
   "cell_type": "markdown",
   "metadata": {
    "id": "UX9kiXD_Jcqd"
   },
   "source": [
    "# Construct binary image using coords"
   ]
  },
  {
   "cell_type": "code",
   "execution_count": 52,
   "metadata": {
    "colab": {
     "base_uri": "https://localhost:8080/"
    },
    "id": "3glwSxI4JJwY",
    "outputId": "8b4f3d24-4d82-451b-ae74-25c8cc91d5ab"
   },
   "outputs": [
    {
     "data": {
      "text/plain": [
       "True"
      ]
     },
     "execution_count": 52,
     "metadata": {},
     "output_type": "execute_result"
    }
   ],
   "source": [
    "my_screen_width = 1920\n",
    "my_screen_height = 1080\n",
    "length=len(data_list_coordinates)\n",
    "K=\"Shape\"\n",
    "res1=[]\n",
    "res2=[]\n",
    "number_of_shapes=[data_list_coordinates.index(i,1) for i in data_list_coordinates[1:] if i == K]\n",
    "number_of_shapes.insert(0,1)\n",
    "res1=[i for i,x in enumerate(data_list_coordinates) if x==K]\n",
    "res2=[i for i in range(len(data_list_coordinates)) if data_list_coordinates[i]==K]\n",
    "#number_of_shapes.insert(len(number_of_shapes),length)\n",
    "# let's create a 6 x 6 matrix with all pixels in black color\n",
    "img = np.zeros((my_screen_width, my_screen_height), np.uint8)\n",
    "data_list_coordinates1=[i for i in data_list_coordinates if i != K]\n",
    "for data in data_list_coordinates1:\n",
    "    img[data[0], data[1]] = 255\n",
    "\n",
    "cv2.imwrite(\"t1.png\", img)"
   ]
  },
  {
   "cell_type": "markdown",
   "metadata": {
    "id": "qAnQlXKjJvVN"
   },
   "source": [
    "# Mirroring"
   ]
  },
  {
   "cell_type": "code",
   "execution_count": 53,
   "metadata": {
    "id": "CnRXqAaBJoLJ"
   },
   "outputs": [],
   "source": [
    "# load the image, create the mirrored image, and the result placeholder\n",
    "img = Image.open(\"t1.png\")\n",
    "mirror = img.transpose(Image.FLIP_LEFT_RIGHT).transpose(Image.ROTATE_90)\n",
    "mirror.save(\"t1_mirrored.png\")"
   ]
  },
  {
   "cell_type": "markdown",
   "metadata": {
    "id": "YQyfimfKJ02Y"
   },
   "source": [
    "# Connect points using a thick line"
   ]
  },
  {
   "cell_type": "code",
   "execution_count": 54,
   "metadata": {
    "colab": {
     "base_uri": "https://localhost:8080/"
    },
    "id": "__R0OLFQJz7-",
    "outputId": "fc53e154-e134-4b09-93f4-f0f93c6d3933"
   },
   "outputs": [
    {
     "data": {
      "text/plain": [
       "True"
      ]
     },
     "execution_count": 54,
     "metadata": {},
     "output_type": "execute_result"
    }
   ],
   "source": [
    "# from google.colab.patches import cv2_imshow\n",
    "img = cv2.imread(\"t1_mirrored.png\")\n",
    "for z in range(len(res1)):\n",
    "  (pre_x, pre_y) = data_list_coordinates[res1[z]+1]\n",
    "  if z != (len(res1)-1):\n",
    "    for (x, y) in data_list_coordinates[res1[z]+1:res1[z+1]]:\n",
    "      img = cv2.line(img, (pre_x, pre_y), (x, y), (255, 255, 255), 20)\n",
    "      (pre_x, pre_y) = (x, y)\n",
    "  else:\n",
    "    for (x, y) in data_list_coordinates[res1[z]+1:]:\n",
    "      img = cv2.line(img, (pre_x, pre_y), (x, y), (255, 255, 255), 20)\n",
    "      (pre_x, pre_y) = (x, y)\n",
    "# save our image as a \"png\" image\n",
    "# cv2_imshow(img)\n",
    "cv2.imwrite(\"t2.png\", img)"
   ]
  },
  {
   "cell_type": "markdown",
   "metadata": {},
   "source": [
    "## Cropping Using Contours"
   ]
  },
  {
   "cell_type": "code",
   "execution_count": 55,
   "metadata": {},
   "outputs": [],
   "source": [
    "img_orig = cv2.imread('t2.png', 0)\n",
    "\n",
    "mask = np.zeros(img_orig.shape, np.uint8)  # mask image the final image without small pieces\n",
    "\n",
    "# using findContours func to find the none-zero pieces\n",
    "contours, hierarchy = cv2.findContours(img_orig, cv2.RETR_EXTERNAL, cv2.CHAIN_APPROX_SIMPLE)\n",
    "count=0\n",
    "# draw the white paper and eliminate the small pieces (less than 1000000 px). This px count is the same as the QR code dectection\n",
    "index = 0\n",
    "for cnt in contours:\n",
    "    if cv2.contourArea(cnt) > 100:\n",
    "        cv2.drawContours(mask, [cnt], 0, 255,-1)  \n",
    "        # the [] around cnt and 3rd argument 0 mean only the particular contour is drawn\n",
    "\n",
    "        # Build a ROI to crop the QR\n",
    "        x, y, w, h = cv2.boundingRect(cnt)\n",
    "        roi = mask[y:y + h, x:x + w]\n",
    "        # crop the original QR based on the ROI\n",
    "        img_crop = img_orig[y:y + h, x:x + w]\n",
    "        # use cropped mask image (roi) to get rid of all small pieces\n",
    "        img_final = img_crop * (roi / 255)\n",
    "        count+=1\n",
    "        cv2.imwrite('t2_cropped'+str(count)+'.png', img_final)\n",
    "\n",
    "#cv2.imwrite('t2_cropped.png', img_final)"
   ]
  },
  {
   "cell_type": "code",
   "execution_count": null,
   "metadata": {},
   "outputs": [],
   "source": []
  },
  {
   "cell_type": "code",
   "execution_count": 56,
   "metadata": {},
   "outputs": [
    {
     "name": "stdout",
     "output_type": "stream",
     "text": [
      "1.7777777777777777\n"
     ]
    },
    {
     "data": {
      "text/plain": [
       "True"
      ]
     },
     "execution_count": 56,
     "metadata": {},
     "output_type": "execute_result"
    }
   ],
   "source": [
    "img = cv2.imread('t2.PNG')\n",
    "imgGry = cv2.cvtColor(img, cv2.COLOR_BGR2GRAY)\n",
    "\n",
    "ret , thrash = cv2.threshold(imgGry, 240 , 255, cv2.CHAIN_APPROX_NONE)\n",
    "contours , hierarchy = cv2.findContours(thrash, cv2.RETR_TREE, cv2.CHAIN_APPROX_NONE)\n",
    "\n",
    "\n",
    "\n",
    "for contour in contours:\n",
    "    approx = cv2.approxPolyDP(contour, 0.01* cv2.arcLength(contour, True), True)\n",
    "    cv2.drawContours(img, [approx], 0, (255, 0, 0), 5)\n",
    "    x = approx.ravel()[0]\n",
    "    y = approx.ravel()[1] - 5\n",
    "    if len(approx) == 3:\n",
    "        cv2.putText( img, \"Triangle\", (x, y), cv2.FONT_HERSHEY_COMPLEX, 5, (255, 255, 255) )\n",
    "    elif len(approx) == 4 :\n",
    "        x, y , w, h = cv2.boundingRect(approx)\n",
    "        aspectRatio = float(w)/h\n",
    "        print(aspectRatio)\n",
    "        if aspectRatio >= 0.95 and aspectRatio < 1.05:\n",
    "            cv2.putText(img, \"square\", (x, y), cv2.FONT_HERSHEY_COMPLEX, 5, (255, 255, 255))\n",
    "\n",
    "        else:\n",
    "            cv2.putText(img, \"rectangle\", (x, y), cv2.FONT_HERSHEY_COMPLEX, 5, (255, 255, 255))\n",
    "\n",
    "    elif len(approx) == 5 :\n",
    "        cv2.putText(img, \"pentagon\", (x, y), cv2.FONT_HERSHEY_COMPLEX, 5, (255, 255, 255))\n",
    "    elif len(approx) == 10 :\n",
    "        cv2.putText(img, \"star\", (x, y), cv2.FONT_HERSHEY_COMPLEX, 5, (255, 255, 255))\n",
    "    else:\n",
    "        cv2.putText(img, \"circle\", (x, y), cv2.FONT_HERSHEY_COMPLEX, 5, (255, 255, 255))\n",
    "\n",
    "cv2.imwrite(\"t2Final.png\", img)"
   ]
  },
  {
   "cell_type": "markdown",
   "metadata": {},
   "source": [
    "## testing cell"
   ]
  },
  {
   "cell_type": "code",
   "execution_count": 32,
   "metadata": {},
   "outputs": [
    {
     "data": {
      "text/plain": [
       "7"
      ]
     },
     "execution_count": 32,
     "metadata": {},
     "output_type": "execute_result"
    }
   ],
   "source": [
    "#res1\n",
    "#count\n",
    "len(contours)"
   ]
  },
  {
   "cell_type": "code",
   "execution_count": null,
   "metadata": {},
   "outputs": [],
   "source": []
  }
 ],
 "metadata": {
  "colab": {
   "collapsed_sections": [],
   "name": "shapeDetection_usingCoordinates.ipynb",
   "provenance": [],
   "toc_visible": true
  },
  "kernelspec": {
   "display_name": "Python 3",
   "language": "python",
   "name": "python3"
  },
  "language_info": {
   "codemirror_mode": {
    "name": "ipython",
    "version": 3
   },
   "file_extension": ".py",
   "mimetype": "text/x-python",
   "name": "python",
   "nbconvert_exporter": "python",
   "pygments_lexer": "ipython3",
   "version": "3.7.3"
  }
 },
 "nbformat": 4,
 "nbformat_minor": 1
}
